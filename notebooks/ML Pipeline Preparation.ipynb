{
 "cells": [
  {
   "cell_type": "markdown",
   "metadata": {},
   "source": [
    "# ML Pipeline Preparation\n",
    "Follow the instructions below to help you create your ML pipeline.\n",
    "### 1. Import libraries and load data from database.\n",
    "- Import Python libraries\n",
    "- Load dataset from database with [`read_sql_table`](https://pandas.pydata.org/pandas-docs/stable/generated/pandas.read_sql_table.html)\n",
    "- Define feature and target variables X and Y"
   ]
  },
  {
   "cell_type": "code",
   "execution_count": 38,
   "metadata": {},
   "outputs": [
    {
     "name": "stdout",
     "output_type": "stream",
     "text": [
      "[nltk_data] Downloading package punkt to /root/nltk_data...\n",
      "[nltk_data]   Package punkt is already up-to-date!\n",
      "[nltk_data] Downloading package stopwords to /root/nltk_data...\n",
      "[nltk_data]   Package stopwords is already up-to-date!\n",
      "[nltk_data] Downloading package wordnet to /root/nltk_data...\n",
      "[nltk_data]   Package wordnet is already up-to-date!\n",
      "[nltk_data] Downloading package averaged_perceptron_tagger to\n",
      "[nltk_data]     /root/nltk_data...\n",
      "[nltk_data]   Package averaged_perceptron_tagger is already up-to-\n",
      "[nltk_data]       date!\n"
     ]
    },
    {
     "data": {
      "text/plain": [
       "True"
      ]
     },
     "execution_count": 38,
     "metadata": {},
     "output_type": "execute_result"
    }
   ],
   "source": [
    "# import libraries\n",
    "import pandas as pd\n",
    "import numpy as np\n",
    "from sqlalchemy import create_engine\n",
    "import sys\n",
    "import re\n",
    "import pickle\n",
    "import nltk\n",
    "from nltk import pos_tag\n",
    "from nltk.tokenize import word_tokenize, sent_tokenize\n",
    "from nltk.stem import WordNetLemmatizer\n",
    "from nltk.corpus import stopwords\n",
    "from sklearn.metrics import classification_report, confusion_matrix\n",
    "from sklearn.model_selection import train_test_split\n",
    "from sklearn.tree import DecisionTreeClassifier\n",
    "from sklearn.neighbors import KNeighborsClassifier\n",
    "from sklearn.ensemble import RandomForestClassifier, AdaBoostClassifier\n",
    "from sklearn.naive_bayes import MultinomialNB\n",
    "from sklearn.feature_extraction.text import CountVectorizer, TfidfTransformer, TfidfVectorizer\n",
    "from sklearn.multioutput import MultiOutputClassifier\n",
    "from sklearn.pipeline import Pipeline\n",
    "from sklearn.metrics import precision_recall_fscore_support, accuracy_score, label_ranking_average_precision_score\n",
    "from sklearn.model_selection  import GridSearchCV\n",
    "\n",
    "import warnings\n",
    "warnings.filterwarnings('ignore')\n",
    "\n",
    "nltk.download(['punkt', 'stopwords', 'wordnet', 'averaged_perceptron_tagger'])"
   ]
  },
  {
   "cell_type": "code",
   "execution_count": 2,
   "metadata": {},
   "outputs": [],
   "source": [
    "def load_data(db_path, table_name):\n",
    "    \"\"\"\n",
    "    Load data from database, return X and y.\n",
    "    Args:\n",
    "      db_path(str): db file name included path\n",
    "      table_name:(str): table name in the db file\n",
    "    Return:\n",
    "      X(pd.DataFrame): messages\n",
    "      y(pd.DataFrame): labels for messages\n",
    "    \"\"\"\n",
    "    \n",
    "    # load data from database\n",
    "    engine = create_engine('sqlite:///' + db_path)\n",
    "    df = pd.read_sql_table(table_name, engine)\n",
    "    \n",
    "    # select columns for X and y\n",
    "    X_cols = 'message'\n",
    "    y_cols = [col for col in df.columns if re.search(pattern='-(0|1)', string=col)]\n",
    "    \n",
    "    # drop records with missing labels\n",
    "    df = df.dropna(subset=y_cols, how='any')\n",
    "    \n",
    "    # X, y\n",
    "    X = df[X_cols] #.values\n",
    "    y = df[y_cols] #.values\n",
    "    \n",
    "    return X, y"
   ]
  },
  {
   "cell_type": "code",
   "execution_count": 3,
   "metadata": {},
   "outputs": [],
   "source": [
    "X, y = load_data(db_path='etl_project.db', table_name='messages')"
   ]
  },
  {
   "cell_type": "markdown",
   "metadata": {},
   "source": [
    "### 2. Write a tokenization function to process your text data"
   ]
  },
  {
   "cell_type": "code",
   "execution_count": 4,
   "metadata": {},
   "outputs": [],
   "source": [
    "def lemmatize_all(text):\n",
    "    \n",
    "    lemmatizer = WordNetLemmatizer()\n",
    "    \n",
    "    tokens_lemmatized = []\n",
    "    # create tokens from text\n",
    "    for word, tag in pos_tag(word_tokenize(text)):\n",
    "        # remove stop words from tokens\n",
    "        if word not in stopwords.words('english'):\n",
    "            \n",
    "            # clean tokens\n",
    "            if tag.startswith(\"NN\"):\n",
    "                token_lemmatized = lemmatizer.lemmatize(word, pos='n')\n",
    "            elif tag.startswith('VB'):\n",
    "                token_lemmatized = lemmatizer.lemmatize(word, pos='v')\n",
    "            elif tag.startswith('JJ'):\n",
    "                token_lemmatized = lemmatizer.lemmatize(word, pos='a')\n",
    "            else:\n",
    "                token_lemmatized = word\n",
    "            \n",
    "            tokens_lemmatized.append(token_lemmatized)\n",
    "        \n",
    "    return tokens_lemmatized"
   ]
  },
  {
   "cell_type": "code",
   "execution_count": 5,
   "metadata": {},
   "outputs": [],
   "source": [
    "def tokenize(text):\n",
    "\n",
    "    # normalize text\n",
    "    text_normalized = re.sub(pattern=r'[^a-zA-Z0-9]', repl=' ', string=text.lower())\n",
    "    \n",
    "    # create tokens from text, remove stopwords from tokens, clean tokens\n",
    "    tokens_lemmed = lemmatize_all(text_normalized)\n",
    "    \n",
    "    return tokens_lemmed"
   ]
  },
  {
   "cell_type": "markdown",
   "metadata": {},
   "source": [
    "### 3. Build a machine learning pipeline\n",
    "This machine pipeline should take in the `message` column as input and output classification results on the other 36 categories in the dataset. You may find the [MultiOutputClassifier](http://scikit-learn.org/stable/modules/generated/sklearn.multioutput.MultiOutputClassifier.html) helpful for predicting multiple target variables."
   ]
  },
  {
   "cell_type": "code",
   "execution_count": 6,
   "metadata": {},
   "outputs": [],
   "source": [
    "#TokenizerTransformer = FunctionTransformer(func=tokenize, validate=False)"
   ]
  },
  {
   "cell_type": "code",
   "execution_count": 7,
   "metadata": {},
   "outputs": [],
   "source": [
    "# pipeline with RandomForestClassifier\n",
    "pipeline_rf = Pipeline([\n",
    "    ('vect', TfidfVectorizer(tokenizer=tokenize)), # CountVectorizer + TfidfTransformer\n",
    "    ('clf', MultiOutputClassifier(RandomForestClassifier(n_estimators=200)))\n",
    "])"
   ]
  },
  {
   "cell_type": "code",
   "execution_count": 8,
   "metadata": {},
   "outputs": [],
   "source": [
    "# pipeline with KNeighborsClassifier\n",
    "pipeline_knn = Pipeline([\n",
    "    ('vect', TfidfVectorizer(tokenizer=tokenize)), # CountVectorizer + TfidfTransformer \n",
    "    ('clf', MultiOutputClassifier(KNeighborsClassifier()))\n",
    "])"
   ]
  },
  {
   "cell_type": "code",
   "execution_count": 9,
   "metadata": {},
   "outputs": [],
   "source": [
    "# pipeline with AdaBoostClassifier\n",
    "pipeline_ab = Pipeline([\n",
    "    ('vect', TfidfVectorizer(tokenizer=tokenize)), # CountVectorizer + TfidfTransformer \n",
    "    ('clf', MultiOutputClassifier(AdaBoostClassifier()))\n",
    "])"
   ]
  },
  {
   "cell_type": "code",
   "execution_count": 10,
   "metadata": {},
   "outputs": [],
   "source": [
    "# pipeline with DecisionTreeClassifier\n",
    "pipeline_dt = Pipeline([\n",
    "    ('vect', TfidfVectorizer(tokenizer=tokenize)), # CountVectorizer + TfidfTransformer \n",
    "    ('clf', MultiOutputClassifier(DecisionTreeClassifier()))\n",
    "])"
   ]
  },
  {
   "cell_type": "markdown",
   "metadata": {},
   "source": [
    "### 4. Train pipeline\n",
    "- Split data into train and test sets\n",
    "- Train pipeline"
   ]
  },
  {
   "cell_type": "code",
   "execution_count": 11,
   "metadata": {},
   "outputs": [],
   "source": [
    "X_train, X_test, y_train, y_test = train_test_split(X, y, test_size=0.2, random_state=42)"
   ]
  },
  {
   "cell_type": "code",
   "execution_count": 12,
   "metadata": {},
   "outputs": [
    {
     "data": {
      "text/plain": [
       "Pipeline(steps=[('vect',\n",
       "                 TfidfVectorizer(tokenizer=<function tokenize at 0x7f73305e6620>)),\n",
       "                ('clf',\n",
       "                 MultiOutputClassifier(estimator=RandomForestClassifier(n_estimators=200)))])"
      ]
     },
     "execution_count": 12,
     "metadata": {},
     "output_type": "execute_result"
    }
   ],
   "source": [
    "pipeline_rf.fit(X_train[0:10], y_train[0:10])"
   ]
  },
  {
   "cell_type": "code",
   "execution_count": 13,
   "metadata": {},
   "outputs": [
    {
     "data": {
      "text/plain": [
       "Pipeline(steps=[('vect',\n",
       "                 TfidfVectorizer(tokenizer=<function tokenize at 0x7f73305e6620>)),\n",
       "                ('clf',\n",
       "                 MultiOutputClassifier(estimator=KNeighborsClassifier()))])"
      ]
     },
     "execution_count": 13,
     "metadata": {},
     "output_type": "execute_result"
    }
   ],
   "source": [
    "pipeline_knn.fit(X_train[0:10], y_train[0:10])"
   ]
  },
  {
   "cell_type": "code",
   "execution_count": 14,
   "metadata": {},
   "outputs": [
    {
     "data": {
      "text/plain": [
       "Pipeline(steps=[('vect',\n",
       "                 TfidfVectorizer(tokenizer=<function tokenize at 0x7f73305e6620>)),\n",
       "                ('clf', MultiOutputClassifier(estimator=AdaBoostClassifier()))])"
      ]
     },
     "execution_count": 14,
     "metadata": {},
     "output_type": "execute_result"
    }
   ],
   "source": [
    "pipeline_ab.fit(X_train[0:10], y_train[0:10])"
   ]
  },
  {
   "cell_type": "code",
   "execution_count": 15,
   "metadata": {},
   "outputs": [
    {
     "data": {
      "text/plain": [
       "Pipeline(steps=[('vect',\n",
       "                 TfidfVectorizer(tokenizer=<function tokenize at 0x7f73305e6620>)),\n",
       "                ('clf',\n",
       "                 MultiOutputClassifier(estimator=DecisionTreeClassifier()))])"
      ]
     },
     "execution_count": 15,
     "metadata": {},
     "output_type": "execute_result"
    }
   ],
   "source": [
    "pipeline_dt.fit(X_train[0:10], y_train[0:10])"
   ]
  },
  {
   "cell_type": "markdown",
   "metadata": {},
   "source": [
    "### 5. Test your model\n",
    "Report the f1 score, precision and recall for each output category of the dataset. You can do this by iterating through the columns and calling sklearn's `classification_report` on each."
   ]
  },
  {
   "cell_type": "code",
   "execution_count": 39,
   "metadata": {},
   "outputs": [],
   "source": [
    "def performance_report_detailed(y_true, y_pred):\n",
    "    \n",
    "    y_cols = list(y_true.columns) \n",
    "    report = classification_report(y_true, y_pred, target_names=y_cols, zero_division=0)\n",
    "    \n",
    "    print(report)\n",
    "\n",
    "\n",
    "def performance_report_summarised(y_true, y_pred):\n",
    "    \n",
    "    y_cols = list(y_true.columns) \n",
    "    report = classification_report(y_true, y_pred, target_names=y_cols, zero_division=0, output_dict=True)\n",
    "    \n",
    "    selected_keys = ['micro avg', 'macro avg', 'weighted avg', 'samples avg']\n",
    "    report = {key: report[key] for key in selected_keys}\n",
    "    report = pd.DataFrame.from_dict(report, orient='index')\n",
    "    \n",
    "    return report"
   ]
  },
  {
   "cell_type": "code",
   "execution_count": 51,
   "metadata": {},
   "outputs": [
    {
     "name": "stdout",
     "output_type": "stream",
     "text": [
      "Report - RandomForestClassifier\n",
      "\n",
      "Train performance:\n",
      "\n",
      "              precision    recall  f1-score  support\n",
      "macro avg      0.416667  0.416667  0.416667       38\n",
      "micro avg      1.000000  1.000000  1.000000       38\n",
      "samples avg    0.800000  0.800000  0.800000       38\n",
      "weighted avg   1.000000  1.000000  1.000000       38\n",
      "\n",
      "Test performance:\n",
      "\n",
      "              precision    recall  f1-score  support\n",
      "macro avg      0.027778  0.037037  0.029630       17\n",
      "micro avg      0.500000  0.352941  0.413793       17\n",
      "samples avg    0.450000  0.281905  0.294444       17\n",
      "weighted avg   0.235294  0.352941  0.266667       17\n"
     ]
    }
   ],
   "source": [
    "print(\"Report - RandomForestClassifier\\n\")\n",
    "\n",
    "y_train_pred = pipeline_rf.predict(X_train[0:10])\n",
    "y_test_pred = pipeline_rf.predict(X_test[0:10])\n",
    "\n",
    "print('Train performance:\\n\\n{}\\n'.format(performance_report_summarised(y_train[0:10], y_train_pred)))\n",
    "print('Test performance:\\n\\n{}'.format(performance_report_summarised(y_test[0:10], y_test_pred)))"
   ]
  },
  {
   "cell_type": "code",
   "execution_count": null,
   "metadata": {},
   "outputs": [],
   "source": [
    "# .descibe() -> mean accuracy etc."
   ]
  },
  {
   "cell_type": "code",
   "execution_count": 52,
   "metadata": {},
   "outputs": [
    {
     "name": "stdout",
     "output_type": "stream",
     "text": [
      "Report - KNeighborsClassifier\n",
      "\n",
      "Train performance:\n",
      "\n",
      "              precision    recall  f1-score  support\n",
      "macro avg      0.083730  0.111111  0.095459       38\n",
      "micro avg      0.760000  0.500000  0.603175       38\n",
      "samples avg    0.675000  0.556667  0.532698       38\n",
      "weighted avg   0.380827  0.500000  0.432122       38\n",
      "\n",
      "Test performance:\n",
      "\n",
      "              precision    recall  f1-score  support\n",
      "macro avg      0.023148  0.046296  0.030864       17\n",
      "micro avg      0.350000  0.411765  0.378378       17\n",
      "samples avg    0.425000  0.315238  0.297778       17\n",
      "weighted avg   0.205882  0.411765  0.274510       17\n"
     ]
    }
   ],
   "source": [
    "print(\"Report - KNeighborsClassifier\\n\")\n",
    "\n",
    "y_train_pred = pipeline_knn.predict(X_train[0:10])\n",
    "y_test_pred = pipeline_knn.predict(X_test[0:10])\n",
    "\n",
    "print('Train performance:\\n\\n{}\\n'.format(performance_report_summarised(y_train[0:10], y_train_pred)))\n",
    "print('Test performance:\\n\\n{}'.format(performance_report_summarised(y_test[0:10], y_test_pred)))"
   ]
  },
  {
   "cell_type": "code",
   "execution_count": 53,
   "metadata": {},
   "outputs": [
    {
     "name": "stdout",
     "output_type": "stream",
     "text": [
      "Report - AdaBoostClassifier\n",
      "\n",
      "Train performance:\n",
      "\n",
      "              precision    recall  f1-score  support\n",
      "macro avg      0.416667  0.416667  0.416667       38\n",
      "micro avg      1.000000  1.000000  1.000000       38\n",
      "samples avg    0.800000  0.800000  0.800000       38\n",
      "weighted avg   1.000000  1.000000  1.000000       38\n",
      "\n",
      "Test performance:\n",
      "\n",
      "              precision    recall  f1-score  support\n",
      "macro avg      0.020833  0.046296  0.028620       17\n",
      "micro avg      0.350000  0.411765  0.378378       17\n",
      "samples avg    0.375000  0.315238  0.264444       17\n",
      "weighted avg   0.191176  0.411765  0.260250       17\n"
     ]
    }
   ],
   "source": [
    "print(\"Report - AdaBoostClassifier\\n\")\n",
    "\n",
    "y_train_pred = pipeline_ab.predict(X_train[0:10])\n",
    "y_test_pred = pipeline_ab.predict(X_test[0:10])\n",
    "\n",
    "print('Train performance:\\n\\n{}\\n'.format(performance_report_summarised(y_train[0:10], y_train_pred)))\n",
    "print('Test performance:\\n\\n{}'.format(performance_report_summarised(y_test[0:10], y_test_pred)))"
   ]
  },
  {
   "cell_type": "code",
   "execution_count": 54,
   "metadata": {},
   "outputs": [
    {
     "name": "stdout",
     "output_type": "stream",
     "text": [
      "Report - DecisionTreeClassifier\n",
      "\n",
      "Train performance:\n",
      "\n",
      "              precision    recall  f1-score  support\n",
      "macro avg      0.416667  0.416667  0.416667       38\n",
      "micro avg      1.000000  1.000000  1.000000       38\n",
      "samples avg    0.800000  0.800000  0.800000       38\n",
      "weighted avg   1.000000  1.000000  1.000000       38\n",
      "\n",
      "Test performance:\n",
      "\n",
      "              precision    recall  f1-score  support\n",
      "macro avg      0.019290  0.050000  0.026984       17\n",
      "micro avg      0.263158  0.294118  0.277778       17\n",
      "samples avg    0.275000  0.267619  0.230794       17\n",
      "weighted avg   0.145425  0.294118  0.191597       17\n"
     ]
    }
   ],
   "source": [
    "print(\"Report - DecisionTreeClassifier\\n\")\n",
    "\n",
    "y_train_pred = pipeline_dt.predict(X_train[0:10])\n",
    "y_test_pred = pipeline_dt.predict(X_test[0:10])\n",
    "\n",
    "print('Train performance:\\n\\n{}\\n'.format(performance_report_summarised(y_train[0:10], y_train_pred)))\n",
    "print('Test performance:\\n\\n{}'.format(performance_report_summarised(y_test[0:10], y_test_pred)))"
   ]
  },
  {
   "cell_type": "code",
   "execution_count": null,
   "metadata": {},
   "outputs": [],
   "source": [
    "pipeline.get_params()"
   ]
  },
  {
   "cell_type": "markdown",
   "metadata": {},
   "source": [
    "### 6. Improve your model\n",
    "Use grid search to find better parameters. "
   ]
  },
  {
   "cell_type": "code",
   "execution_count": 59,
   "metadata": {},
   "outputs": [],
   "source": [
    "parameters = {\n",
    "    'clf__estimator__min_samples_leaf': [1, 10],\n",
    "    'clf__estimator__max_features': ['auto', 'log2'],\n",
    "    'vect__smooth_idf': [True]\n",
    "}\n",
    "\n",
    "cv_rf = GridSearchCV(pipeline_rf, param_grid=parameters, n_jobs=-1)"
   ]
  },
  {
   "cell_type": "code",
   "execution_count": 60,
   "metadata": {},
   "outputs": [
    {
     "data": {
      "text/plain": [
       "GridSearchCV(estimator=Pipeline(steps=[('vect',\n",
       "                                        TfidfVectorizer(tokenizer=<function tokenize at 0x7f73305e6620>)),\n",
       "                                       ('clf',\n",
       "                                        MultiOutputClassifier(estimator=RandomForestClassifier(n_estimators=200)))]),\n",
       "             n_jobs=-1,\n",
       "             param_grid={'clf__estimator__max_features': ['auto', 'log2'],\n",
       "                         'clf__estimator__min_samples_leaf': [1, 10],\n",
       "                         'vect__smooth_idf': [True]})"
      ]
     },
     "execution_count": 60,
     "metadata": {},
     "output_type": "execute_result"
    }
   ],
   "source": [
    "cv_rf.fit(X_train[0:10], y_train[0:10])"
   ]
  },
  {
   "cell_type": "markdown",
   "metadata": {},
   "source": [
    "### 7. Test your model\n",
    "Show the accuracy, precision, and recall of the tuned model.  \n",
    "\n",
    "Since this project focuses on code quality, process, and  pipelines, there is no minimum performance metric needed to pass. However, make sure to fine tune your models for accuracy, precision and recall to make your project stand out - especially for your portfolio!"
   ]
  },
  {
   "cell_type": "code",
   "execution_count": null,
   "metadata": {},
   "outputs": [],
   "source": [
    "print(\"Report - GridSearchCV x RandomForestClassifier\\n\")\n",
    "\n",
    "y_train_pred = cv_rf.predict(X_train[0:10])\n",
    "y_test_pred = cv_rf.predict(X_test[0:10])\n",
    "\n",
    "print('Train performance:\\n\\n{}\\n'.format(performance_report_summarised(y_train[0:10], y_train_pred)))\n",
    "print('Test performance:\\n\\n{}'.format(performance_report_summarised(y_test[0:10], y_test_pred)))"
   ]
  },
  {
   "cell_type": "markdown",
   "metadata": {},
   "source": [
    "### 8. Try improving your model further. Here are a few ideas:\n",
    "* try other machine learning algorithms\n",
    "* add other features besides the TF-IDF"
   ]
  },
  {
   "cell_type": "markdown",
   "metadata": {},
   "source": [
    "### 9. Export your model as a pickle file"
   ]
  },
  {
   "cell_type": "code",
   "execution_count": null,
   "metadata": {},
   "outputs": [],
   "source": [
    "with open('classifer.pkl', 'wb') as f:\n",
    "    pickle.dump(cv, f)"
   ]
  },
  {
   "cell_type": "markdown",
   "metadata": {},
   "source": [
    "### 10. Use this notebook to complete `train.py`\n",
    "Use the template file attached in the Resources folder to write a script that runs the steps above to create a database and export a model based on a new dataset specified by the user."
   ]
  },
  {
   "cell_type": "code",
   "execution_count": null,
   "metadata": {},
   "outputs": [],
   "source": [
    "import pandas as pd\n",
    "import numpy as np\n",
    "from sqlalchemy import create_engine\n",
    "import sys\n",
    "import re\n",
    "import pickle\n",
    "import nltk\n",
    "from nltk.tokenize import word_tokenize,sent_tokenize\n",
    "from nltk.stem import WordNetLemmatizer\n",
    "from nltk.corpus import stopwords\n",
    "from sklearn.metrics import confusion_matrix\n",
    "from sklearn.model_selection import train_test_split\n",
    "from sklearn.tree import DecisionTreeClassifier\n",
    "from sklearn.ensemble import RandomForestClassifier,AdaBoostClassifier\n",
    "from sklearn.naive_bayes import MultinomialNB\n",
    "from sklearn.feature_extraction.text import CountVectorizer, TfidfTransformer, TfidfVectorizer\n",
    "from sklearn.multioutput import MultiOutputClassifier\n",
    "from sklearn.pipeline import Pipeline\n",
    "from sklearn.metrics import precision_recall_fscore_support,accuracy_score\n",
    "from sklearn.model_selection  import GridSearchCV\n",
    "\n",
    "nltk.download(['punkt','stopwords','wordnet'])"
   ]
  },
  {
   "cell_type": "code",
   "execution_count": null,
   "metadata": {},
   "outputs": [],
   "source": [
    "def load_data(db_path='workspace/data/DisasterResponse.db',tablename='disastertab'):\n",
    "    \"\"\"\n",
    "    Function: load data from database and return X and y.\n",
    "    Args:\n",
    "      db_path(str): database file name included path\n",
    "      tablename:(str): table name in the database file.\n",
    "    Return:\n",
    "      X(pd.DataFrame): messages for X\n",
    "      y(pd.DataFrame): labels part in messages for y\n",
    "    \"\"\"\n",
    "    # load data from database\n",
    "    engine = create_engine('sqlite:///'+db_path)\n",
    "    df=pd.read_sql('SELECT * from '+tablename, engine)\n",
    "    X = df['message']\n",
    "    # result is multiple classifty.\n",
    "    y = df.iloc[:,4:]\n",
    "    return X, y\n",
    "\n",
    "def tokenize(text):\n",
    "    \"\"\"\n",
    "    Function: tokenize the text\n",
    "    Args:  source string\n",
    "    Return:\n",
    "    clean_tokens(str list): clean string list\n",
    "    \n",
    "    \"\"\"\n",
    "    #normalize text\n",
    "    text = re.sub(r'[^a-zA-Z0-9]',' ',text.lower())\n",
    "    \n",
    "    #token messages\n",
    "    words = word_tokenize(text)\n",
    "    tokens = [w for w in words if w not in stopwords.words(\"english\")]\n",
    "    \n",
    "    #sterm and lemmatizer\n",
    "    lemmatizer = WordNetLemmatizer()\n",
    "    clean_tokens = []\n",
    "    for tok in tokens:\n",
    "        clean_tok = lemmatizer.lemmatize(tok).strip()\n",
    "        clean_tokens.append(clean_tok)\n",
    "\n",
    "    return clean_tokens\n",
    "\n",
    "def build_model(): \n",
    "    \"\"\"\n",
    "    Function: build model that consist of pipeline\n",
    "    Args:\n",
    "      N/A\n",
    "    Return\n",
    "      cv(model): Grid Search model \n",
    "    \"\"\"\n",
    "    \n",
    "    pipeline = Pipeline([\n",
    "        ('vect',TfidfVectorizer(tokenizer=tokenize)),\n",
    "        ('clf', MultiOutputClassifier(RandomForestClassifier(n_estimators=200,random_state=20)))\n",
    "    ]) \n",
    "    \n",
    "    parameters = {\n",
    "        'clf__estimator__criterion':['entropy']\n",
    "    }\n",
    "    \n",
    "    # create grid search object\n",
    "    cv = GridSearchCV(pipeline, param_grid=parameters,n_jobs=-1)\n",
    "    return cv\n",
    "\n",
    "def evaluate_model(y_test, y_pred):\n",
    "    result=precision_recall_fscore_support(Y_test, y_pred)\n",
    "    for i, col in enumerate(category_names):\n",
    "        accu=accuracy_score(Y_test.loc[:,col],y_pred[:,i])\n",
    "        print('{}\\n Accuracy: {:.4f}    % Precision: {:.4f}   % Recall {:.4f} '.format(\n",
    "            col,accu,result[0][i],result[1][i]))\n",
    "    \n",
    "def save_model(cv):\n",
    "    \"\"\"\n",
    "    Function: save model as pickle file.\n",
    "    Args:\n",
    "      cv:target model\n",
    "    Return:\n",
    "      N/A\n",
    "    \"\"\"\n",
    "    with open('classifer.pkl', 'wb') as f:\n",
    "        pickle.dump(cv, f) \n",
    "        \n",
    "def main(): \n",
    "    print(\"Load data\")\n",
    "    X,y=load_data()\n",
    "    X_train,X_test,y_train,y_test=train_test_split(X,y,test_size=0.2, random_state=42)\n",
    "    print(\"Build model\")\n",
    "    model=build_model()\n",
    "    print(\"Train model\")\n",
    "    model.fit(X_train,y_train)\n",
    "    y_pred=model.predict(X_test)\n",
    "    print(\"Evaluation model\")\n",
    "    evaluate_model(y_test, y_pred)\n",
    "    print(\"Save model\")\n",
    "    save_model(model)"
   ]
  },
  {
   "cell_type": "code",
   "execution_count": null,
   "metadata": {},
   "outputs": [],
   "source": [
    "main()"
   ]
  }
 ],
 "metadata": {
  "kernelspec": {
   "display_name": "Python 3",
   "language": "python",
   "name": "python3"
  },
  "language_info": {
   "codemirror_mode": {
    "name": "ipython",
    "version": 3
   },
   "file_extension": ".py",
   "mimetype": "text/x-python",
   "name": "python",
   "nbconvert_exporter": "python",
   "pygments_lexer": "ipython3",
   "version": "3.6.3"
  }
 },
 "nbformat": 4,
 "nbformat_minor": 2
}
